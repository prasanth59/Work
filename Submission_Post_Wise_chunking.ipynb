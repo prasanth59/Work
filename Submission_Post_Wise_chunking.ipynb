{
  "nbformat": 4,
  "nbformat_minor": 0,
  "metadata": {
    "colab": {
      "name": "Post_Wise_chunking.ipynb",
      "provenance": [],
      "collapsed_sections": [],
      "toc_visible": true,
      "authorship_tag": "ABX9TyMkURByZLUSClBUDAocOvtG",
      "include_colab_link": true
    },
    "kernelspec": {
      "name": "python3",
      "display_name": "Python 3"
    },
    "language_info": {
      "name": "python"
    },
    "accelerator": "GPU"
  },
  "cells": [
    {
      "cell_type": "markdown",
      "metadata": {
        "id": "view-in-github",
        "colab_type": "text"
      },
      "source": [
        "<a href=\"https://colab.research.google.com/github/prasanth59/Work/blob/master/Submission_Post_Wise_chunking.ipynb\" target=\"_parent\"><img src=\"https://colab.research.google.com/assets/colab-badge.svg\" alt=\"Open In Colab\"/></a>"
      ]
    },
    {
      "cell_type": "code",
      "metadata": {
        "id": "II08yvpLDEMC",
        "colab": {
          "base_uri": "https://localhost:8080/"
        },
        "outputId": "1001fb97-12e5-41b5-e6a4-9028bb3194cc"
      },
      "source": [
        "!pip install contractions\n",
        "!pip install langdetect"
      ],
      "execution_count": 9,
      "outputs": [
        {
          "output_type": "stream",
          "text": [
            "Collecting contractions\n",
            "  Downloading https://files.pythonhosted.org/packages/0a/04/d5e0bb9f2cef5d15616ebf68087a725c5dbdd71bd422bcfb35d709f98ce7/contractions-0.0.48-py2.py3-none-any.whl\n",
            "Collecting textsearch>=0.0.21\n",
            "  Downloading https://files.pythonhosted.org/packages/d3/fe/021d7d76961b5ceb9f8d022c4138461d83beff36c3938dc424586085e559/textsearch-0.0.21-py2.py3-none-any.whl\n",
            "Collecting anyascii\n",
            "\u001b[?25l  Downloading https://files.pythonhosted.org/packages/09/c7/61370d9e3c349478e89a5554c1e5d9658e1e3116cc4f2528f568909ebdf1/anyascii-0.1.7-py3-none-any.whl (260kB)\n",
            "\u001b[K     |████████████████████████████████| 266kB 17.6MB/s \n",
            "\u001b[?25hCollecting pyahocorasick\n",
            "\u001b[?25l  Downloading https://files.pythonhosted.org/packages/7f/c2/eae730037ae1cbbfaa229d27030d1d5e34a1e41114b21447d1202ae9c220/pyahocorasick-1.4.2.tar.gz (321kB)\n",
            "\u001b[K     |████████████████████████████████| 327kB 17.8MB/s \n",
            "\u001b[?25hBuilding wheels for collected packages: pyahocorasick\n",
            "  Building wheel for pyahocorasick (setup.py) ... \u001b[?25l\u001b[?25hdone\n",
            "  Created wheel for pyahocorasick: filename=pyahocorasick-1.4.2-cp37-cp37m-linux_x86_64.whl size=85391 sha256=7f73f52716ea1e1e9544fdd17af3045a99967541ad53448996e5753e2dc23f3d\n",
            "  Stored in directory: /root/.cache/pip/wheels/3a/03/34/77e3ece0bba8b86bfac88a79f923b36d805cad63caeba38842\n",
            "Successfully built pyahocorasick\n",
            "Installing collected packages: anyascii, pyahocorasick, textsearch, contractions\n",
            "Successfully installed anyascii-0.1.7 contractions-0.0.48 pyahocorasick-1.4.2 textsearch-0.0.21\n",
            "Collecting langdetect\n",
            "\u001b[?25l  Downloading https://files.pythonhosted.org/packages/56/a3/8407c1e62d5980188b4acc45ef3d94b933d14a2ebc9ef3505f22cf772570/langdetect-1.0.8.tar.gz (981kB)\n",
            "\u001b[K     |████████████████████████████████| 983kB 19.8MB/s \n",
            "\u001b[?25hRequirement already satisfied: six in /usr/local/lib/python3.7/dist-packages (from langdetect) (1.15.0)\n",
            "Building wheels for collected packages: langdetect\n",
            "  Building wheel for langdetect (setup.py) ... \u001b[?25l\u001b[?25hdone\n",
            "  Created wheel for langdetect: filename=langdetect-1.0.8-cp37-none-any.whl size=993193 sha256=2be57fdef49e6bc55d9272054967f3306b1f3d664356a706220c4e66deeb3f12\n",
            "  Stored in directory: /root/.cache/pip/wheels/8d/b3/aa/6d99de9f3841d7d3d40a60ea06e6d669e8e5012e6c8b947a57\n",
            "Successfully built langdetect\n",
            "Installing collected packages: langdetect\n",
            "Successfully installed langdetect-1.0.8\n"
          ],
          "name": "stdout"
        }
      ]
    },
    {
      "cell_type": "code",
      "metadata": {
        "colab": {
          "base_uri": "https://localhost:8080/"
        },
        "id": "-Gyhfo82DJlP",
        "outputId": "d2a9df87-8af2-49a9-e07e-1e65f240b3f7"
      },
      "source": [
        "from google.colab import drive\n",
        "drive.mount('/content/drive')"
      ],
      "execution_count": 1,
      "outputs": [
        {
          "output_type": "stream",
          "text": [
            "Mounted at /content/drive\n"
          ],
          "name": "stdout"
        }
      ]
    },
    {
      "cell_type": "code",
      "metadata": {
        "id": "PFo_bu4JELJc",
        "colab": {
          "base_uri": "https://localhost:8080/"
        },
        "outputId": "47a8f19b-5b59-421b-d6db-ba390fa69d5d"
      },
      "source": [
        "from bs4 import BeautifulSoup\n",
        "import os \n",
        "import pandas as pd\n",
        "import nltk\n",
        "from nltk.tokenize import sent_tokenize\n",
        "import pickle\n",
        "nltk.download('punkt')"
      ],
      "execution_count": 2,
      "outputs": [
        {
          "output_type": "stream",
          "text": [
            "[nltk_data] Downloading package punkt to /root/nltk_data...\n",
            "[nltk_data]   Unzipping tokenizers/punkt.zip.\n"
          ],
          "name": "stdout"
        },
        {
          "output_type": "execute_result",
          "data": {
            "text/plain": [
              "True"
            ]
          },
          "metadata": {
            "tags": []
          },
          "execution_count": 2
        }
      ]
    },
    {
      "cell_type": "markdown",
      "metadata": {
        "id": "7XSKQTiCw6P9"
      },
      "source": [
        "# Extracting content from the xml files present in <post> tag.\n",
        "\n"
      ]
    },
    {
      "cell_type": "code",
      "metadata": {
        "id": "o-UfefsJEeCK"
      },
      "source": [
        "# Fetch the content \n",
        "def get_file_content(path,file_names,en):\n",
        "  \"\"\"Returns blog content in <p> tags in html file \"\"\"\n",
        "  file_text = {}\n",
        "  lang_exception = []\n",
        "  for file_name in file_names:\n",
        "    if file_name.strip().split(\".\")[0] in en:\n",
        "      posts_list = []\n",
        "      try:\n",
        "        with open(path+file_name, \"r\",encoding='utf-8-sig',errors='ignore') as file_obj:\n",
        "          contents = file_obj.read()\n",
        "          soup = BeautifulSoup(contents, 'lxml')\n",
        "          # Each post is assumed as a chunk and the content is extracted from the post tag.\n",
        "          for tag in soup.find_all(\"post\"):\n",
        "            temp = tag.text.replace(\"\\\\\", \"\").replace(\"\\t\",'').replace(\"\\n\",'').replace('urlLink','').lower()\n",
        "            if detect(temp)== 'en': # Remove non-english documents\n",
        "              if len(temp.split()) > 10:\n",
        "                temp = ' '.join([(contractions.fix(word)) for word in temp.split()])\n",
        "                posts_list.append(temp)\n",
        "      except IOError:\n",
        "        print(\"Error: Input XML files not found \",file_name)\n",
        "        pass\n",
        "      except: \n",
        "        print('Language detection error',file_name.strip().split(\".\")[0])\n",
        "        lang_exception.append(file_name.strip().split(\".\")[0])\n",
        "        pass\n",
        "      file_text[file_name.strip().split(\".\")[0]] = posts_list\n",
        "  return file_text,lang_exception"
      ],
      "execution_count": null,
      "outputs": []
    },
    {
      "cell_type": "code",
      "metadata": {
        "id": "XQlPoaW8EgWp"
      },
      "source": [
        "# Fetch the content from xml files in given directory\n",
        "path = '/content/blogs/'\n",
        "files_list = os.listdir(path)\n",
        "total_content,lang_exception = get_file_content(path,files_list,file_chunk_content.keys())"
      ],
      "execution_count": null,
      "outputs": []
    },
    {
      "cell_type": "markdown",
      "metadata": {
        "id": "KInt7Fu4xgy-"
      },
      "source": [
        "# Perform preprocessing on the extracted chunks(posts) from blogs"
      ]
    },
    {
      "cell_type": "code",
      "metadata": {
        "id": "0oxU5Et6Fnqp"
      },
      "source": [
        "# Remove the punctuations from the sentences\n",
        "def remove_punctuation(content):\n",
        "  return ' '.join([token for token in content.split() if token.isalpha() == True])\n",
        "\n",
        "# Method to perform preprocessing task\n",
        "def preprocess_text(blog_text):\n",
        "  sentences = nltk.sent_tokenize(blog_text)\n",
        "  sentences = [remove_punctuation(sentence) for sentence in sentences]\n",
        "  sentences = ' '.join(sentences)\n",
        "  return sentences"
      ],
      "execution_count": null,
      "outputs": []
    },
    {
      "cell_type": "code",
      "metadata": {
        "colab": {
          "base_uri": "https://localhost:8080/"
        },
        "id": "uDmPFfGth4v2",
        "outputId": "4df0d36d-eb4c-4b66-807f-88c2d5f4c097"
      },
      "source": [
        "# Perform preprocessing on the blog content\n",
        "def get_preprocessed_content(blog_content)\n",
        "  preprocessed_blogs = {}\n",
        "  for index, key in enumerate(list(blog_content.keys())):\n",
        "    preprocessed_blogs[key] = list(map(preprocess_text,blog_content[key]))\n",
        "    if index%1000 == 0:\n",
        "          print('Preprocessing done for ', index)\n",
        "  return preprocessed_blogs"
      ],
      "execution_count": null,
      "outputs": [
        {
          "output_type": "stream",
          "text": [
            "Preprocessing done for  0\n",
            "Preprocessing done for  1000\n",
            "Preprocessing done for  2000\n",
            "Preprocessing done for  3000\n",
            "Preprocessing done for  4000\n",
            "Preprocessing done for  5000\n",
            "Preprocessing done for  6000\n",
            "Preprocessing done for  7000\n",
            "Preprocessing done for  8000\n",
            "Preprocessing done for  9000\n",
            "Preprocessing done for  10000\n",
            "Preprocessing done for  11000\n",
            "Preprocessing done for  12000\n",
            "Preprocessing done for  13000\n",
            "Preprocessing done for  14000\n",
            "Preprocessing done for  15000\n",
            "Preprocessing done for  16000\n",
            "Preprocessing done for  17000\n",
            "Preprocessing done for  18000\n",
            "Preprocessing done for  19000\n"
          ],
          "name": "stdout"
        }
      ]
    },
    {
      "cell_type": "code",
      "metadata": {
        "id": "P70lUdBREUky"
      },
      "source": [
        "# Perform pre-processing task\n",
        "processed_blog_data = get_preprocessed_content(total_content)"
      ],
      "execution_count": null,
      "outputs": []
    },
    {
      "cell_type": "code",
      "metadata": {
        "id": "FrTl-PBhxjVw"
      },
      "source": [
        "# Store the preprocessed_data in a pickle file\n",
        "pickle.dump(processed_blog_data,open('all_processed_final_min_sentence_length_dict.pickle','wb'),protocol= pickle.HIGHEST_PROTOCOL)\n",
        "!cp \"/content/all_processed_final_min_sentence_length_dict.pickle\" \"/content/drive/MyDrive/all_processed_final_min_sentence_length_dict.pickle\" "
      ],
      "execution_count": null,
      "outputs": []
    },
    {
      "cell_type": "code",
      "metadata": {
        "id": "BzUskxGeRcIS"
      },
      "source": [
        "processed_blog_data = pickle.load(open('/content/all_processed_final_min_sentence_length_dict.pickle','rb'))"
      ],
      "execution_count": null,
      "outputs": []
    },
    {
      "cell_type": "markdown",
      "metadata": {
        "id": "fu89Iap-9quj"
      },
      "source": [
        "# Generate embeddings for each post (chunk) in the blog"
      ]
    },
    {
      "cell_type": "code",
      "metadata": {
        "id": "ekiOW4SuVXVL"
      },
      "source": [
        "import tensorflow as tf\n",
        "import numpy as np\n",
        "import tensorflow_hub as hub\n",
        "\n",
        "class USEModel():\n",
        "  @staticmethod\n",
        "  def  get_USE_model():\n",
        "     # Import the Universal Sentence Encoder's Hub module\n",
        "    module_url = \"https://tfhub.dev/google/universal-sentence-encoder/3\"\n",
        "    model = hub.load(module_url)\n",
        "    return model"
      ],
      "execution_count": 5,
      "outputs": []
    },
    {
      "cell_type": "code",
      "metadata": {
        "id": "7UepVgppgr1_",
        "colab": {
          "base_uri": "https://localhost:8080/"
        },
        "outputId": "acbbaefd-9605-4490-a35a-aa523eb4f7c8"
      },
      "source": [
        "def generate_blog_embeddings(blog_dict):\n",
        "  blog_embedding = {}\n",
        "  model_USE = USEModel.get_USE_model()\n",
        "  for index, key in enumerate(list(blog_dict.keys())):\n",
        "    blog_embedding [key] = [model_USE([post])['outputs'].numpy().reshape(1,-1) for post in blog_dict[key]]\n",
        "    if index%1000 == 0:\n",
        "      print('Embeddings generated for ', index)\n",
        "  return blog_embedding"
      ],
      "execution_count": null,
      "outputs": [
        {
          "output_type": "stream",
          "text": [
            "Embeddings generated for  0\n",
            "Embeddings generated for  1000\n",
            "Embeddings generated for  2000\n",
            "Embeddings generated for  3000\n",
            "Embeddings generated for  4000\n",
            "Embeddings generated for  5000\n",
            "Embeddings generated for  6000\n",
            "Embeddings generated for  7000\n",
            "Embeddings generated for  8000\n",
            "Embeddings generated for  9000\n",
            "Embeddings generated for  10000\n",
            "Embeddings generated for  11000\n",
            "Embeddings generated for  12000\n",
            "Embeddings generated for  13000\n",
            "Embeddings generated for  14000\n",
            "Embeddings generated for  15000\n",
            "Embeddings generated for  16000\n",
            "Embeddings generated for  17000\n"
          ],
          "name": "stdout"
        }
      ]
    },
    {
      "cell_type": "code",
      "metadata": {
        "id": "IzNazfVSo_QU"
      },
      "source": [
        "# Generate embeddings for the preprocessed chunks\n",
        "blog_embeddings  = generate_blog_embeddings(processed_blog_data)\n",
        "\n",
        "# save the embeddings for the preprocessed chunks\n",
        "pickle.dump(blog_embeddings,open('final_embeddings_dict.pickle','wb'),protocol= pickle.HIGHEST_PROTOCOL)\n",
        "!cp \"/content/final_embeddings_dict.pickle\" \"/content/drive/MyDrive/final_embeddings_dict.pickle\" "
      ],
      "execution_count": null,
      "outputs": []
    },
    {
      "cell_type": "markdown",
      "metadata": {
        "id": "ky7EBvY7CwBs"
      },
      "source": [
        "# Retrieving the results for a given query"
      ]
    },
    {
      "cell_type": "code",
      "metadata": {
        "id": "mlNCbo5zIr61"
      },
      "source": [
        "\n",
        "!cp '/content/drive/MyDrive/final_embeddings_dict.pickle' '/content/final_embeddings_dict.pickle'\n",
        "!cp '/content/drive/MyDrive/all_processed_final_min_sentence_length_dict.pickle' '/content/all_processed_final_min_sentence_length_dict.pickle'  \n"
      ],
      "execution_count": 3,
      "outputs": []
    },
    {
      "cell_type": "code",
      "metadata": {
        "id": "WsGrLcAMiN4r"
      },
      "source": [
        "import numpy as np\n",
        "from sklearn.metrics.pairwise import cosine_similarity\n",
        "# Method to calclulate similarity for the given query \n",
        "def get_similar_blogs(query,blog_embedding):\n",
        "  # Generate embedding for the query\n",
        "  model_USE = USEModel.get_USE_model()\n",
        "  embed_query = model_USE([query])['outputs'][0].numpy().reshape(1,-1)\n",
        "  similarity = {}\n",
        "  for key in blog_embedding.keys():\n",
        "    post_sim  = []\n",
        "    for post in blog_embedding[key]:\n",
        "      post_sim.append(cosine_similarity(post.reshape(1,-1),embed_query))\n",
        "      try:  \n",
        "        # Store the chunk with max similarity for the query\n",
        "        similarity[key] = (np.max(post_sim),np.argmax(post_sim))\n",
        "        # similarity[key] = (np.mean(post_sim))\n",
        "      except ValueError:\n",
        "        pass\n",
        "  return sorted(similarity.items(), key=lambda x: x[1], reverse=True)\n"
      ],
      "execution_count": 4,
      "outputs": []
    },
    {
      "cell_type": "code",
      "metadata": {
        "id": "FfrGdHDgClyq"
      },
      "source": [
        "blog_embeddings = pickle.load(open('/content/final_embeddings_dict.pickle','rb'))\n",
        "processed_content = pickle.load(open('/content/all_processed_final_min_sentence_length_dict.pickle','rb'))\n"
      ],
      "execution_count": 6,
      "outputs": []
    },
    {
      "cell_type": "code",
      "metadata": {
        "id": "cDJS0ov5OWcN"
      },
      "source": [
        "query = 'higher education'\n",
        "results = get_similar_blogs(query,blog_embeddings)"
      ],
      "execution_count": 7,
      "outputs": []
    },
    {
      "cell_type": "code",
      "metadata": {
        "colab": {
          "base_uri": "https://localhost:8080/"
        },
        "id": "NZev9kQwPD90",
        "outputId": "9ed9904b-adb9-4dc8-a8b6-0791419bb4d9"
      },
      "source": [
        "\n",
        "# print('Rank \\t Document Number \\t Relevance Score \\t Matched with post number')\n",
        "print('==============================================')\n",
        "print('Top 10 results for the query:',query)\n",
        "for rank,item in enumerate(results[:10]):\n",
        " print('=============================================')\n",
        " print('Rank:', rank,', Relevance Score:%.4f' %(item[1][0]))\n",
        " print('Blog Id:',item[0],', Post:', item[1][1])\n",
        " print('Content:',str(processed_content[item[0]][item[1][1]]))"
      ],
      "execution_count": 36,
      "outputs": [
        {
          "output_type": "stream",
          "text": [
            "==============================================\n",
            "Top 10 results for the query: higher education\n",
            "=============================================\n",
            "Rank: 0 , Relevance Score:0.3916\n",
            "Blog Id: 1713442 , Post: 268\n",
            "Content: the value of a college they really are worth in addition to being better educated and more you can actually increase your earning power over this would be a good article to share with junior high and high school students who are reluctant about from the the escalating cost of higher education is causing many to question the value of continuing education beyond high many wonder whether the high cost of the opportunity cost of choosing college over and the accumulation of thousands of dollars of debt in the long worth the the risk is especially large for families who have a difficult time making ends meet without the additional burden of college tuition and in order to determine whether higher education is worth the it is useful to examine what is known about the value of higher education and the rates of return on investment to both the individual and to\n",
            "=============================================\n",
            "Rank: 1 , Relevance Score:0.3647\n",
            "Blog Id: 657345 , Post: 3\n",
            "Content: it is been a long time since last i wrote i had the entrance exam of higher education last wednesday and got my ielts result the other i got from which i did not i mean i expected it to be higher till\n",
            "=============================================\n",
            "Rank: 2 , Relevance Score:0.3451\n",
            "Blog Id: 3288666 , Post: 15\n",
            "Content: tom ridge to leave it seems that an income in the top is not enough to put a couple kids through college secretary ridge does not seem to hold out much hope that the bush administration will do anything for assisting more americans in reaching higher education in his second\n",
            "=============================================\n",
            "Rank: 3 , Relevance Score:0.3444\n",
            "Blog Id: 1180158 , Post: 150\n",
            "Content: my way news just to show you that more education does not mean you are\n",
            "=============================================\n",
            "Rank: 4 , Relevance Score:0.3395\n",
            "Blog Id: 3490500 , Post: 33\n",
            "Content: wapo story here what i do not understand is why those supporting this and other subsidization of education constantly complain about the increasing costs of i would point them to neal brief on the the report released to herald the reauthorization of the higher education act quickly identifies the tuition likely with the higher education act of the federal government has provided significant funding to help ensure that and students and families are not prevented from receiving a postsecondary education simply because of financial this thanks to the education billion in higher with the bulk of that about directly to consider that billion going directly to students and its effect on a student will education at a price he can extra education money enables him to pay a higher in the multiple billions in student aid artificially inflate demand and average tuition as students who might not have gone to college and others attend more expensive institutions than they otherwise would the through its subsidization is toying with the price of higher when that price they point to greedy but if they i guarantee the state would take all the\n",
            "=============================================\n",
            "Rank: 5 , Relevance Score:0.3356\n",
            "Blog Id: 3496909 , Post: 11\n",
            "Content: woah quite bad for my i got for point and earn order to go i must get above for and in years time when i finish ite i must get at least credits and above to go still have to earn more credits only top students then can if i can not get enough gpa have to go ite dover or tampines to get higher nitec information another years in aiming to go\n",
            "=============================================\n",
            "Rank: 6 , Relevance Score:0.3245\n",
            "Blog Id: 3801738 , Post: 2\n",
            "Content: does everyone have the right to go to should everyone go to resounding university should be reserved for those who have shown that they have the dedication to work for their students all over the country work for an honor roll only to have that achievement trumped by a simple entrance exam that let us any dolt waste their i have heard some people say they can not take then they should try harder or do something education has been cheapened by feeling everyone has to go to the egalitarian monster rears its i can hear the outrage from how many times have people taken and aid for school later to drop out half way so many students have missed out on an education because everyone feels they need to go to college later to find they can not do it and drop this education has lowered the standards for some entrance exams use to mean you passed you are fail you are now it is to see what level of remedial math to put you the ones who drop out have wasted so much time and money that a trade school later is seen as more school and they fall to the any education is worthy even a trade school that will better your present job and forward your every job is needed and the man who repairs your car is as worthy a member of society as the lawyer maybe more so i have little college and what i have has been for my own entertainment and edification or for military promotion but as a medic in the army i have no need for anything other than specialized classes pertaining to my let us all find our place and most will discover that we can do more or better once we have a clear vision of what we do not by following the dreams of\n",
            "=============================================\n",
            "Rank: 7 , Relevance Score:0.3180\n",
            "Blog Id: 3112128 , Post: 6\n",
            "Content: here is my recent to dear australian national university scholarships i have been perusing my options for universities to study at for next year and have been quite tempted by the courses and level of quality services that your education facility it has come to my attention that i may wish to attend your so i thought that it may be polite to offer my services and presence for next in exchange for my attending your university for my undergraduate and postgraduate i offer my acceptance of any form of scholarship that you are willing to bestow upon my services to the university will include postgraduate research in the areas of philosophy and the promise of work of a very high standard and a future commitment to in the fields of number theory the riemann and i am willing to attribute all findings to the universities own research please do read my offer with utter openness of mind and depth of as my services will not be available for too long a yours christopher mcmaster\n",
            "=============================================\n",
            "Rank: 8 , Relevance Score:0.3178\n",
            "Blog Id: 420039 , Post: 0\n",
            "Content: if you are among the million students expected to graduate in your starting salary should be higher than your the good news is percent of hiring managers will increase salaries for new the study found that more than of disciplines studied saw a rise in the average computer science majors saw the greatest increase of percent to information science grads and management information system had conservative engineering offers nudged up although the civil engineering sector saw its first decrease since business graduates saw a modest as did liberal arts general studies with the exception of psychology which are down  full article\n",
            "=============================================\n",
            "Rank: 9 , Relevance Score:0.3158\n",
            "Blog Id: 3333298 , Post: 96\n",
            "Content: for a while charlie rangel of new york has been pushing for a new compulsory military service program would include civil service as on the basis that if children were to be war would be less and for the stronger argument that a draft would create a military that is more economically and geographically we know that the poor and the rural are in the so this seems to have solid but does fred kaplan says in he makes a good statistical argument that those who sign up are more representative of the racial mix in america than we think are only slightly while hispanics are and that the real difference comes at blacks tend to at a much higher creating an overall military in which blacks are almost twice as numerous as they are in the civilian many black including rangel and colin site the military as one of the most progressive of american institutions when it comes to and the higher rate of black membership might be seen as a good the us military is the most stunningly successful integration project in american and we should be proud of kaplan does not touch on this but i think it is when blacks are underrepresented in law we know we have a so why is that over representation in the military is the arguments are multiple and i can not go into i think it would be better to have a military that was more clearly diverse in terms of far more than but kaplan also shoots down the standard argument that the military takes in the uneducated at a vastly higher rate than the in according to soldiers read at an grade while civilians read at a grade level and soldiers score far higher on their entrance exams than civilians soldiers are better educated as with a significantly higher high school graduation officers are now required to have college so among the civilian professional and military professional the rates of education are also much higher in the if soldiers are smarter than i have been intrigued by the rangel though i can not help but oppose compulsory military or civil analysis makes it easier not to be he also offers the only fair solution to the soldier shortage pay them far worse than the actual of the armed services is our perception of it as a place where and poor blacks congregate to sneak their way into college after they are done with their if soldiers were honored for their and the easiest way to honor them is to make sure they are paid than the shortage might shrink the same is after of the nursing hospitals willing to pay nurses highs salaries and with strong benefit packages are able to staff themselves without those less willing have staffing in both failure to pay well and maintain a full staff leads to the unnecessary loss of so why are not we willing to pay the\n"
          ],
          "name": "stdout"
        }
      ]
    },
    {
      "cell_type": "markdown",
      "metadata": {
        "id": "ELCrA19QfwCX"
      },
      "source": [
        "# Visualization"
      ]
    },
    {
      "cell_type": "code",
      "metadata": {
        "id": "_MO_nI1Fkfza"
      },
      "source": [
        "sample_sentences = ['I am always interested in reading',\n",
        "                    'It is so cold outside',\n",
        "                    'I purchased books',\n",
        "                    'NLP is interesting',\n",
        "                    'sentence encoder gives embeddings']\n",
        "model_USE = USEModel.get_USE_model()\n",
        "sample_sentence_embedding = [ model_USE([item])['outputs'][0].numpy().reshape(1,-1) for item in sample_sentences ]\n"
      ],
      "execution_count": 9,
      "outputs": []
    },
    {
      "cell_type": "code",
      "metadata": {
        "colab": {
          "base_uri": "https://localhost:8080/",
          "height": 685
        },
        "id": "FTUoihjZB2BY",
        "outputId": "16557ff5-1b96-413e-ba89-add396a0964c"
      },
      "source": [
        "import seaborn as sns\n",
        "import matplotlib.pyplot as plt\n",
        "def plot_similarity(labels, features, rotation):\n",
        "  corr = np.inner(features, features).reshape(len(labels),len(labels))\n",
        "  sns.set(font_scale=0.9,rc={'figure.figsize':(11.7,8.27)})\n",
        "  g = sns.heatmap(\n",
        "      corr,\n",
        "      xticklabels=labels,\n",
        "      yticklabels=labels,\n",
        "      vmin=0,\n",
        "      vmax=1,\n",
        "      cmap=\"YlOrRd\")\n",
        "  g.figsize=(10,5)\n",
        "  g.set_xticklabels(labels, rotation=rotation)\n",
        "  g.set_title(\"Sentences Similarity\")\n",
        "\n",
        "\n",
        "def run_and_plot(sentences,embeddings):\n",
        "  plot_similarity(sentences, embeddings, 90)\n",
        "\n",
        "run_and_plot(sample_sentences,sample_sentence_embedding)"
      ],
      "execution_count": 32,
      "outputs": [
        {
          "output_type": "display_data",
          "data": {
            "image/png": "[encoded data removed]",
            "text/plain": [
              "<Figure size 842.4x595.44 with 2 Axes>"
            ]
          },
          "metadata": {
            "tags": []
          }
        }
      ]
    },
    {
      "cell_type": "code",
      "metadata": {
        "id": "mgE8URT_UW6P"
      },
      "source": [
        ""
      ],
      "execution_count": null,
      "outputs": []
    }
  ]
}