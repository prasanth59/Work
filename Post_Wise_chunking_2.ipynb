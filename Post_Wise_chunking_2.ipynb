{
  "nbformat": 4,
  "nbformat_minor": 0,
  "metadata": {
    "colab": {
      "name": "Post_Wise_chunking.ipynb",
      "provenance": [],
      "collapsed_sections": [],
      "toc_visible": true,
      "authorship_tag": "ABX9TyMTxdTf1u7RB99a41dWwtmy",
      "include_colab_link": true
    },
    "kernelspec": {
      "name": "python3",
      "display_name": "Python 3"
    },
    "language_info": {
      "name": "python"
    }
  },
  "cells": [
    {
      "cell_type": "markdown",
      "metadata": {
        "id": "view-in-github",
        "colab_type": "text"
      },
      "source": [
        "<a href=\"https://colab.research.google.com/github/prasanth59/Work/blob/master/Post_Wise_chunking_2.ipynb\" target=\"_parent\"><img src=\"https://colab.research.google.com/assets/colab-badge.svg\" alt=\"Open In Colab\"/></a>"
      ]
    },
    {
      "cell_type": "code",
      "metadata": {
        "id": "II08yvpLDEMC"
      },
      "source": [
        "# # !pip install contractions\n",
        "# !pip install langdetect"
      ],
      "execution_count": null,
      "outputs": []
    },
    {
      "cell_type": "code",
      "metadata": {
        "colab": {
          "base_uri": "https://localhost:8080/"
        },
        "id": "-Gyhfo82DJlP",
        "outputId": "84348e07-f155-4378-cd47-7005aa918d44"
      },
      "source": [
        "from google.colab import drive\n",
        "drive.mount('/content/drive')"
      ],
      "execution_count": 1,
      "outputs": [
        {
          "output_type": "stream",
          "text": [
            "Mounted at /content/drive\n"
          ],
          "name": "stdout"
        }
      ]
    },
    {
      "cell_type": "code",
      "metadata": {
        "id": "ejG8cFQSDOOk"
      },
      "source": [
        "!cp \"/content/drive/MyDrive/blog_post_wise_dict.pickle\"  \"/content/blog_post_wise_dict.pickle\" \n",
        "# !unzip '/content/blogs.zip'"
      ],
      "execution_count": 37,
      "outputs": []
    },
    {
      "cell_type": "code",
      "metadata": {
        "id": "PFo_bu4JELJc",
        "colab": {
          "base_uri": "https://localhost:8080/"
        },
        "outputId": "95361c75-9e26-4fb7-8ed4-0a7696e67ffe"
      },
      "source": [
        "from bs4 import BeautifulSoup\n",
        "import os \n",
        "import pandas as pd\n",
        "# import contractions\n",
        "import nltk\n",
        "from nltk.tokenize import sent_tokenize\n",
        "# from spacy.lang.en.stop_words import STOP_WORDS\n",
        "import pickle\n",
        "nltk.download('punkt')"
      ],
      "execution_count": 6,
      "outputs": [
        {
          "output_type": "stream",
          "text": [
            "[nltk_data] Downloading package punkt to /root/nltk_data...\n",
            "[nltk_data]   Unzipping tokenizers/punkt.zip.\n"
          ],
          "name": "stdout"
        },
        {
          "output_type": "execute_result",
          "data": {
            "text/plain": [
              "True"
            ]
          },
          "metadata": {
            "tags": []
          },
          "execution_count": 6
        }
      ]
    },
    {
      "cell_type": "markdown",
      "metadata": {
        "id": "7XSKQTiCw6P9"
      },
      "source": [
        "# Extract content from post tag in blog"
      ]
    },
    {
      "cell_type": "code",
      "metadata": {
        "id": "o-UfefsJEeCK"
      },
      "source": [
        "def get_file_content(path,file_names):\n",
        "  \"\"\"Returns blog content in <p> tags in html file \"\"\"\n",
        "  file_text = {}\n",
        "  # blog_records = []\n",
        "  for file_name in file_names:\n",
        "    posts_list = []\n",
        "    # blog_records.append(file_name.strip().split(\".\")[:-1])\n",
        "    # print(file_name)\n",
        "    # print(blog_records)\n",
        "    try:\n",
        "      with open(path+file_name, \"r\",encoding=\"ISO-8859-1\") as file_obj:\n",
        "        contents = file_obj.read()\n",
        "        soup = BeautifulSoup(contents, 'lxml')\n",
        "        for tag in soup.find_all(\"post\"):\n",
        "          temp = tag.text.replace(\"\\\\\", \"\").replace(\"\\t\",'').replace(\"\\n\",'').replace('urlLink','').lower()\n",
        "          if len(temp.split()) > 10:\n",
        "            temp = ' '.join([(contractions.fix(word)) for word in temp.split()])\n",
        "            posts_list.append(temp)\n",
        "    except IOError:\n",
        "      print(\"Error: Input XML files not found \")\n",
        "    # print(file_name.strip().split(\".\")[0])\n",
        "    file_text[file_name.strip().split(\".\")[0]] = posts_list\n",
        "  return file_text"
      ],
      "execution_count": null,
      "outputs": []
    },
    {
      "cell_type": "code",
      "metadata": {
        "id": "XQlPoaW8EgWp"
      },
      "source": [
        "path = '/content/blogs/'\n",
        "files_list = os.listdir(path)\n",
        "file_chunk_content = get_file_content(path,files_list)\n",
        "pickle.dump(file_chunk_content,open('en_chunk_wise_dict.pickle','wb'),protocol= pickle.HIGHEST_PROTOCOL)"
      ],
      "execution_count": null,
      "outputs": []
    },
    {
      "cell_type": "code",
      "metadata": {
        "id": "V_qxrKom7snp"
      },
      "source": [
        "# Method to detect the non english blogs in the corpus\n",
        "def remove_non_english_blog(file_dict):\n",
        "  non_en = []\n",
        "  for key in file_dict.keys():\n",
        "    try:\n",
        "      lang = detect(file_dict[key])\n",
        "      if lang!= 'en':\n",
        "        # print(lang,key)\n",
        "        non_en.append(key)\n",
        "    except :\n",
        "      print('Error in Key value',key)\n",
        "      non_en.extend(key)\n",
        "      continue\n",
        "  \n",
        "  for key in non_en:\n",
        "    try:\n",
        "      file_dict.pop(key)\n",
        "    except:\n",
        "       print('Error in Key value',key)\n",
        "       continue\n",
        "\n",
        "  return file_dict\n",
        "\n",
        "file_chunk_content = remove_non_english_blog(file_chunk_content)"
      ],
      "execution_count": 47,
      "outputs": []
    },
    {
      "cell_type": "markdown",
      "metadata": {
        "id": "KInt7Fu4xgy-"
      },
      "source": [
        "# Perform preprocessing on the extracted chunks(posts) from blogs"
      ]
    },
    {
      "cell_type": "code",
      "metadata": {
        "id": "0oxU5Et6Fnqp"
      },
      "source": [
        "# Method to set spacy preprocessing pipeline\n",
        "def set_preprocess_pipeline():\n",
        "  spacy_pipeline = spacy.load('en_core_web_sm')\n",
        "  sentencizer = spacy_pipeline.create_pipe('sentencizer')\n",
        "  spacy_pipeline.add_pipe(sentencizer)\n",
        "  return spacy_pipeline\n",
        "\n",
        "# Remove the punctuations from the sentences\n",
        "def remove_punctuation(content):\n",
        "  return ' '.join([token for token in content.split() if token.isalpha() == True])\n",
        "\n",
        "# Mehtod to perform preprocessing task\n",
        "def preprocess_text(blog_text):\n",
        "  sentences = nltk.sent_tokenize(blog_text)\n",
        "  sentences = [remove_punctuation(sentence) for sentence in sentences]\n",
        "  sentences = ' '.join(sentences)\n",
        "  return sentences"
      ],
      "execution_count": 34,
      "outputs": []
    },
    {
      "cell_type": "code",
      "metadata": {
        "id": "ataD11enHoBs"
      },
      "source": [
        "# preprocess_pipeline = set_preprocess_pipeline()\n",
        "file_chunk_content = pickle.load(open('en_chunk_wise_dict.pickle','rb'))\n",
        "# sample_blogs = file_content.keys()\n",
        "# file_content = pickle.load(open('/content/english_blog_corpus_dict.pickle','rb'))"
      ],
      "execution_count": 2,
      "outputs": []
    },
    {
      "cell_type": "code",
      "metadata": {
        "id": "eKyDnfJBicwl"
      },
      "source": [
        " sample_blogs = list(file_chunk_content.keys())[3000]"
      ],
      "execution_count": 69,
      "outputs": []
    },
    {
      "cell_type": "code",
      "metadata": {
        "id": "uDmPFfGth4v2"
      },
      "source": [
        "testing_blogs = {}\n",
        "for key in list(file_chunk_content.keys())[:3000]:\n",
        "  testing_blogs[key] = list(map(preprocess_text,file_chunk_content[key]))\n",
        "  print(key)"
      ],
      "execution_count": null,
      "outputs": []
    },
    {
      "cell_type": "code",
      "metadata": {
        "colab": {
          "base_uri": "https://localhost:8080/"
        },
        "id": "2pBb7PZzSyor",
        "outputId": "d43d5de9-a921-40d1-a9b8-b39a786f511d"
      },
      "source": [
        "list(map(preprocess_text,file_chunk_content['1009572']))\n",
        "# file_chunk_content['1009572'][0]\n"
      ],
      "execution_count": 35,
      "outputs": [
        {
          "output_type": "execute_result",
          "data": {
            "text/plain": [
              "['planning the marathon i checked and the registration for the spirit of louis marathon does not open until august I am planning to get online at and i like doing triathlons andwill probably sign up for another one next but i think that I am going to make running my primary focus for the next months after the starting with the i think I am going to find a for and maybe join the stl track club for their winter race',\n",
              " 'i must be crazy here i less than months from my first ever race spirit of louis and now I have signed up for the lewis clark on I am trying to work up to the spirit of louis then i want to run an ultra next i think i can do it is a road at I am looking forward to increasing my mileage this is the start of my blog to chronicle my training to reach these',\n",
              " 'running in forest park there is a mile loop is actually about at forest park in the louis triathlon club runs there every wednesday at and as a i try to get out to run with one way around the park goes up a long hill parallel to skinker and the other way goes i run with the club a month ago and went in and some seconds i figure that i paced myself pretty good that i went through the first mile really and that had been my longest run of the we ran and it turns out the distance up is but then you are running on the outside so that is the  good strong and the uphill was only about a minute and a half slower than the overall pace of the so that is I am sure my down time will improve significantly my next time i feel strong and fast at the end of my miles runs which means the long runs are doing what they are supposed to my asthma is still holding me back during the second and third but i think I am going out too i went under pace for the first mile again if i did not have to take so many walking i think that i would be able to hold pace the whole my left calf was killing me yesterday and this morning until i hit it with some cold water in the adjusting to my new shoes izumi is going to be a pain in the sounds like the comrades about times',\n",
              " 'too many days off that is a day all that talk about skipping a and wanting to life changed and it was not meant to i hung out with my wife on friday because she got a day and then saturday i worked for about hours on her and i just did not have the energy to do miles after but i finally ran in i finished really and i tried to push through and run most of but i just do not have the legs yet for miles straight but that is I am ready to keep up the it is all about improving over not I am looking to improve my speed for the next that is the i know the endurance will go up as i crank the mileage i think I will add some speedwork in the form of fartleks or long intervals to finish out this maybe even yasso and then put snap in my running next year with I am thinking about getting running I have heard it is a very good',\n",
              " 'on days not i do not know how i feel yet about not running and wanting i wanted to run but i did i figured that i needed to take a day because I would run the two previous and then I am running tonight and the long run on i guess I am okay with but it is weird wanting to run and not i know that i need to take a day and i can not crank up my mileage too fast or I will hurt that would be bad with only weeks to the triathlon and weeks to the i think I am starting to get but I am not recognizing it i know i can finish both and i think I will hit my time goals for the tri and under for the that is so that is not the I am just not used to this kind of but it is good do not get me having goals and making plans of this sort is a good and it all leads me toward a happier i kind of like to be a little twisted about all it makes me realize how much i want and how much i am willing to work for',\n",
              " 'going nowhere i hate treadmill i i know i should be because i can run and i never would have gotten started without the treadmill at the but time sure does except when I am on a walk and then i forget how long I have walked because I am too busy listening to music or watching the i it is my i do not have to like here is the miles on to better am really enjoying this whole running i started to do this to keep my weight dropping and health and but I am really starting to like and I am looking at getting a second pair of turns out i underpronate a so I am checking out the pearl izumi and at only i can not go i think i want to race in',\n",
              " 'old race reports this is a copy of my old race report to the my very first race let the sneezing sorry this is so what can i i got married two weeks louis marathon ceo april short fun got to watch the olympic marathon trials perfect day to run and about and i got enough dust up my nose to sneeze continuously for three days long i decided a long time ago that i was going to run a couple of before my first triathlon to test fitness and get some experience out in a race considering i do most of my training by i wanted something big enough that i would not be alone on the course when they picked up the finish but i did not want to have to travel too far to get what better choice than a run in which is about from my house though i live in so i signed up for the a good starters distance i felt just slightly longer than the distance of the run for my tri in and because i figured i had too much facial hair to sneak into the mile fun run for the i signed up around december and did not here much back after except that packet pickup was to be the day before the race out i got number about signing up so i set about increasing my distance improving my then the problems as they always i go and get engaged to the woman i want to spend the rest of my life goes whirlwind days of training out the window as i turned from a training fool into a soft and lovable it so i was not ironically my first day back training next comes the exciting world of calf but i was able to rest and ice and get back on the treadmill to tough it i get to race my first and the day of the marathon so i wake up put down a marathon bar and start sipping on the gatorade as i drive to the race site in beautiful forest if you ever come to this is the place to wide paths with wonderful scenery and just minutes from downtown have to plug my i caught the last minutes of the race and watched as deena made the team with a second place along with colleen de reuck winning and jen rhines taking third i then cruised over to the starting line of my race to wait out the last hour before it was time to did i mention that drinking of gatorade and of water an hour before a race does nothing but make you jog to the bathroom for that remain good let me tell after about minutes of waiting and peeing and peeing some my parents showed up to wish me luck and watch my shuffle around in forest did i mention that my longest run before this was i was looking forward to the first miles but after we were just going to see what happened on the way back everyone started to herd over to the road were the race was to i sprinted to the bathroom one last time out that was the fastest i ran all and made my way into the i headed for the back of the pack home sweet and stood around waiting and joking with a few of the people around about minutes to we hear a bang and everyone takes off then it turns out that the tire on a running stroller had and sounded remarkably like a we stood around a little more and then everyone started to move in front of so we took off the first meters was a nice downhill trot save the and then onto the back portion of the marathon which was everything went quite i was feeling and hanging with the guy i was talking to before the race name was we cruised out around a few corners and onto the flat roadways that made up the bulk of the the wind was blowing up a lot of dirt that made my eyes sting by the time i got to the water which was about halfway i can say with some certainity that i did not make it to the first mile markers before the leaders came back and we all cheered loudly for i was afraid at one point that a few of the thinner ones might be blown off the course from the mph but everybody made it out i only had to walk a few times during the mostly because i can not drink water from a plastic cup and shuffle at the same and i got to spill most of it down the front of my shirt in front of the motorcycle cops watching a group of attractive ladies behind i am lots of it is quite a lot of fun to be able to run with other i especially enjoyed picking out the next runner in line and trying to catch and then doing it with the next person after i passed i finished strong and made sure i shuffled quickly the last meters or so and started to haul when i saw that i could finish in under and i with a bill finished just behind me meters out we decided to kick it that is what they call as soon as i hit the finish line and stopped running the sneezing my nose went off every seconds for the next four i must have put half of the prairie up my because the sneezing did not subside for three i did not because i went out and ran and had a great the post race bagels from the louis bread company hit the spot and i enjoyed myself i can not wait for the next have a great adam',\n",
              " 'chasing the being chased while so i was out for my run last a quick miles before my longer run i was pushing harder than usual to try and pick up my average and it was already when i so i wanted to go home and i got out to my turnaround point and found a collection of some kind of flying insect buzzing the i tried to run around and i got dive i turned around and burned rubber to get out of picture sprinting down the being buzzed by some kind of at my overwhelming sue i have when i got i thought about this for the it must have looked pretty damn i got a hard run so i can not i was also able to calm my breathing after the panting from the initial scare and the subsequent attacks and keep it that is got to mean something here is the miles in the words of reo keep pushing ']"
            ]
          },
          "metadata": {
            "tags": []
          },
          "execution_count": 35
        }
      ]
    },
    {
      "cell_type": "code",
      "metadata": {
        "id": "FrTl-PBhxjVw"
      },
      "source": [
        "pickle.dump(testing_blogs,open('2k_processed_dict.pickle','wb'),protocol= pickle.HIGHEST_PROTOCOL)\n",
        "!cp \"/content/2k_processed_dict.pickle\" \"/content/drive/MyDrive/2k_processed_dict.pickle\" "
      ],
      "execution_count": 68,
      "outputs": []
    },
    {
      "cell_type": "markdown",
      "metadata": {
        "id": "fu89Iap-9quj"
      },
      "source": [
        "# Generate embeddings for each post (chunk) in the blog"
      ]
    },
    {
      "cell_type": "code",
      "metadata": {
        "id": "ekiOW4SuVXVL"
      },
      "source": [
        "import tensorflow as tf\n",
        "import numpy as np\n",
        "import tensorflow_hub as hub\n",
        "module_url = \"https://tfhub.dev/google/universal-sentence-encoder/3\"\n",
        "# Import the Universal Sentence Encoder's TF Hub module\n",
        "embed = hub.load(module_url)"
      ],
      "execution_count": null,
      "outputs": []
    },
    {
      "cell_type": "code",
      "metadata": {
        "id": "7UepVgppgr1_"
      },
      "source": [
        "blog_embedding = {}\n",
        "for key in testing_blogs.keys():\n",
        "  # print(key)\n",
        "  blog_embedding [key] = [embed([post])['outputs'].numpy().reshape(1,-1) for post in testing_blogs[key]]"
      ],
      "execution_count": null,
      "outputs": []
    },
    {
      "cell_type": "code",
      "metadata": {
        "id": "or3dxOeEhGdj"
      },
      "source": [
        "query = 'purchasing'\n",
        "embed_query = embed([query])['outputs'][0].numpy().reshape(1,-1)"
      ],
      "execution_count": null,
      "outputs": []
    },
    {
      "cell_type": "code",
      "metadata": {
        "id": "WsGrLcAMiN4r"
      },
      "source": [
        "import numpy as np\n",
        "from sklearn.metrics.pairwise import cosine_similarity\n",
        "similarity = {}\n",
        "for key in blog_embedding.keys():\n",
        "  post_sim  = []\n",
        "  for item in blog_embedding[key]:\n",
        "    # print(item.shape,embed_query.shape)\n",
        "    # print(type(item),type(embed_query))\n",
        "    # print(item)\n",
        "    # break\n",
        "    post_sim.append(cosine_similarity(item.reshape(1,-1),embed_query))\n",
        "  similarity[key] = (np.max(post_sim),np.argmax(post_sim))\n",
        "  # similarity[key] = (np.mean(post_sim))\n",
        "  # break\n",
        "# embed_query['outputs'][0]\n"
      ],
      "execution_count": null,
      "outputs": []
    },
    {
      "cell_type": "code",
      "metadata": {
        "id": "XescJHWri1DY"
      },
      "source": [
        "similarity = sorted(similarity.items(), key=lambda x: x[1], reverse=True)"
      ],
      "execution_count": null,
      "outputs": []
    },
    {
      "cell_type": "code",
      "metadata": {
        "colab": {
          "base_uri": "https://localhost:8080/"
        },
        "id": "1cXUSM3LjP8c",
        "outputId": "0e31e86b-bda7-432b-a078-62aa916a9f67"
      },
      "source": [
        "similarity[:10]"
      ],
      "execution_count": null,
      "outputs": [
        {
          "output_type": "execute_result",
          "data": {
            "text/plain": [
              "[('3575321', 0.08983934),\n",
              " ('4295610', 0.06506164),\n",
              " ('3479663', 0.0611583),\n",
              " ('3962694', 0.059156228),\n",
              " ('4209630', 0.053669903),\n",
              " ('4258946', 0.04933091),\n",
              " ('3454837', 0.04541669),\n",
              " ('4230427', 0.044803362),\n",
              " ('3649624', 0.044762306),\n",
              " ('4170988', 0.044217914)]"
            ]
          },
          "metadata": {
            "tags": []
          },
          "execution_count": 123
        }
      ]
    },
    {
      "cell_type": "code",
      "metadata": {
        "id": "4G_EtnWYkLK4"
      },
      "source": [
        "[('3575321', (0.2885018, 0)),\n",
        " ('2784121', (0.23606962, 14)),\n",
        " ('2652964', (0.22985673, 85)),\n",
        " ('3529406', (0.21925841, 150)),\n",
        " ('1449141', (0.21860936, 410)),\n",
        " ('1056232', (0.20585573, 550)),\n",
        " ('2600593', (0.2000128, 53)),\n",
        " ('3663542', (0.19867145, 9)),\n",
        " ('1977468', (0.19416338, 89)),\n",
        " ('78196', (0.19256797, 207))]"
      ],
      "execution_count": null,
      "outputs": []
    },
    {
      "cell_type": "code",
      "metadata": {
        "colab": {
          "base_uri": "https://localhost:8080/",
          "height": 102
        },
        "id": "G-8A6FUAjRJA",
        "outputId": "3d3dc9f4-f031-4f4a-bfd5-def83cdbf3cd"
      },
      "source": [
        "testing_blogs['78196'][207]"
      ],
      "execution_count": null,
      "outputs": [
        {
          "output_type": "execute_result",
          "data": {
            "application/vnd.google.colaboratory.intrinsic+json": {
              "type": "string"
            },
            "text/plain": [
              "'addiction i need help i need help now ebay is going to because me to go broke and get thrown out of my apartment the first sign of an addiction is denial been there done that so I am guessing I am worse off than i thought i do not know but i can not stay away from ebay all day i bid buy bid buy search click bid and buy why shit like this and this and oh god this makes you addicted to ebay I am a shopaholic by nature but i have not been to the malls lately because all of my shit comes from ebay i feel like a prisoner in my own home because I am do not have to leave to get good stuff oh please call the authorities now'"
            ]
          },
          "metadata": {
            "tags": []
          },
          "execution_count": 108
        }
      ]
    },
    {
      "cell_type": "code",
      "metadata": {
        "id": "_MO_nI1Fkfza"
      },
      "source": [
        "sample_sentences = ['I am always interested in reading',\n",
        "                    'It is so cold outside',\n",
        "                    'I purchased books','NLP is interesting','sentence encoder gives embeddings']\n",
        "# query_term = []\n",
        "# sample_query_embedding = embed(query_term)['outputs'][0].numpy().reshape(1,-1)\n",
        "sample_sentence_embedding = [ embed([item])['outputs'][0].numpy().reshape(1,-1) for item in sample_sentences ]\n"
      ],
      "execution_count": null,
      "outputs": []
    },
    {
      "cell_type": "code",
      "metadata": {
        "colab": {
          "base_uri": "https://localhost:8080/"
        },
        "id": "qxdj5aXPnAeR",
        "outputId": "e8122f5d-eb94-4cd5-c239-a51c3f9d8a78"
      },
      "source": [
        "import matplotlib.pyplot as plt\n",
        "from sklearn.decomposition import PCA\n",
        "\n",
        "# Use PCA to reduce the dimensions of the embedding\n",
        "def pca_transform(sentence_embeddings,dim):\n",
        "    vectors = np.vstack((sentence_embeddings[0], sentence_embeddings[1], sentence_embeddings[2]))\n",
        "    # Set the number of dimensions PCA will reduce to\n",
        "    pca = PCA(n_components=dim)\n",
        "    pca.fit(vectors)\n",
        "    new_pca = pca.transform(vectors)\n",
        "    print(\"original shape:   \", vectors.shape)\n",
        "    print(\"transformed shape:\", new_pca.shape)\n",
        "    return(new_pca)\n",
        "\n",
        "new_dim = pca_transform(sample_sentence_embedding, 2)"
      ],
      "execution_count": null,
      "outputs": [
        {
          "output_type": "stream",
          "text": [
            "original shape:    (3, 512)\n",
            "transformed shape: (3, 2)\n"
          ],
          "name": "stdout"
        }
      ]
    },
    {
      "cell_type": "code",
      "metadata": {
        "id": "6mfQTh8JBqIQ"
      },
      "source": [
        "# Draw a 2d graph with the new dimensions\n",
        "def two_d_graph(sample_sentences,reduced_dims):\n",
        "    colors = (\"red\", \"green\", \"blue\")\n",
        "    groups = (sample_sentences[0], sample_sentences[1], sample_sentences[2]) \n",
        " \n",
        "    # Create plot\n",
        "    fig = plt.figure()\n",
        "    ax = fig.gca()\n",
        " \n",
        "    for data, color, group in zip(reduced_dims, colors, groups):\n",
        "        x, y = data\n",
        "        ax.scatter(x, y, c=color, edgecolors='none', s=30, label=group)\n",
        " \n",
        "    plt.title('Plot of sentence embeddings')\n",
        "    plt.legend(loc=1)\n",
        "    plt.rcParams[\"figure.figsize\"] = (8,15)\n",
        "    plt.show()\n",
        "\n",
        "two_d_graph(sample_sentences,new_dim)"
      ],
      "execution_count": null,
      "outputs": []
    },
    {
      "cell_type": "code",
      "metadata": {
        "colab": {
          "base_uri": "https://localhost:8080/",
          "height": 1000
        },
        "id": "FTUoihjZB2BY",
        "outputId": "af23dd67-eac2-402a-ea28-9f4b84292fbb"
      },
      "source": [
        "import seaborn as sns\n",
        "def plot_similarity(labels, features, rotation):\n",
        "  corr = np.inner(features, features).reshape(len(labels),len(labels))\n",
        "  sns.set(font_scale=0.9)\n",
        "  g = sns.heatmap(\n",
        "      corr,\n",
        "      xticklabels=labels,\n",
        "      yticklabels=labels,\n",
        "      vmin=0,\n",
        "      vmax=1,\n",
        "      cmap=\"YlOrRd\")\n",
        "  g.set_xticklabels(labels, rotation=rotation)\n",
        "  g.set_title(\"Semantic Textual Similarity\")\n",
        "  # print(corr)\n",
        "\n",
        "def run_and_plot(sentences,embeddings):\n",
        "  # message_embeddings_ = embed(messages_)\n",
        "  plot_similarity(sentences, embeddings, 90)\n",
        "\n",
        "run_and_plot(sample_sentences,sample_sentence_embedding)"
      ],
      "execution_count": null,
      "outputs": [
        {
          "output_type": "display_data",
          "data": {
            "image/png": "[encoded data removed]",
            "text/plain": [
              "<Figure size 576x1080 with 2 Axes>"
            ]
          },
          "metadata": {
            "tags": []
          }
        }
      ]
    },
    {
      "cell_type": "code",
      "metadata": {
        "id": "mgE8URT_UW6P"
      },
      "source": [
        ""
      ],
      "execution_count": null,
      "outputs": []
    }
  ]
}