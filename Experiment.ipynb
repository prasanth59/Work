{
  "nbformat": 4,
  "nbformat_minor": 0,
  "metadata": {
    "colab": {
      "name": "Experiment.ipynb",
      "provenance": [],
      "collapsed_sections": [],
      "authorship_tag": "ABX9TyO18SXtHvhQpT0CBrqJDoZl",
      "include_colab_link": true
    },
    "kernelspec": {
      "name": "python3",
      "display_name": "Python 3"
    },
    "language_info": {
      "name": "python"
    }
  },
  "cells": [
    {
      "cell_type": "markdown",
      "metadata": {
        "id": "view-in-github",
        "colab_type": "text"
      },
      "source": [
        "<a href=\"https://colab.research.google.com/github/prasanth59/Work/blob/master/Experiment.ipynb\" target=\"_parent\"><img src=\"https://colab.research.google.com/assets/colab-badge.svg\" alt=\"Open In Colab\"/></a>"
      ]
    },
    {
      "cell_type": "code",
      "metadata": {
        "colab": {
          "base_uri": "https://localhost:8080/"
        },
        "id": "wXetHGqUG47r",
        "outputId": "165d11ac-5098-4ae7-e827-7f2496fd250a"
      },
      "source": [
        "from google.colab import drive\n",
        "drive.mount('/content/drive')"
      ],
      "execution_count": 1,
      "outputs": [
        {
          "output_type": "stream",
          "text": [
            "Mounted at /content/drive\n"
          ],
          "name": "stdout"
        }
      ]
    },
    {
      "cell_type": "code",
      "metadata": {
        "id": "9WLuV2OhG8uw"
      },
      "source": [
        "import pickle\n",
        "# !cp \"/content/drive/MyDrive/Test_data.zip\"  \"/content/Test_data.zip\" \n",
        "# raw_data = pickle.load(open('Test_data.pkl', 'rb'))\n",
        "import pandas as pd"
      ],
      "execution_count": 2,
      "outputs": []
    },
    {
      "cell_type": "code",
      "metadata": {
        "id": "uK1uwwVZMCKS"
      },
      "source": [
        "frame = pd.read_csv('/content/Corpus_file.csv')"
      ],
      "execution_count": 28,
      "outputs": []
    },
    {
      "cell_type": "code",
      "metadata": {
        "id": "6WerZdvTML0Z"
      },
      "source": [
        "frame = frame[frame['plagiarism_type']=='simulated']"
      ],
      "execution_count": 29,
      "outputs": []
    },
    {
      "cell_type": "code",
      "metadata": {
        "id": "4pg0GYePMe3G"
      },
      "source": [
        "frame[['source_reference','suspicious_document']].value_counts()"
      ],
      "execution_count": null,
      "outputs": []
    },
    {
      "cell_type": "code",
      "metadata": {
        "id": "DeVmekWoPqKO"
      },
      "source": [
        "frame = frame[['source_reference','suspicious_document']]"
      ],
      "execution_count": 31,
      "outputs": []
    },
    {
      "cell_type": "code",
      "metadata": {
        "id": "gOVYGPyLP_6A"
      },
      "source": [
        "frame = frame.iloc[:1500]"
      ],
      "execution_count": 32,
      "outputs": []
    },
    {
      "cell_type": "code",
      "metadata": {
        "colab": {
          "base_uri": "https://localhost:8080/",
          "height": 402
        },
        "id": "rV-7w2J4QKd4",
        "outputId": "00e49262-9bf6-4be5-ddf6-b302603f33c3"
      },
      "source": [
        "frame"
      ],
      "execution_count": 33,
      "outputs": [
        {
          "output_type": "execute_result",
          "data": {
            "text/html": [
              "<div>\n",
              "<style scoped>\n",
              "    .dataframe tbody tr th:only-of-type {\n",
              "        vertical-align: middle;\n",
              "    }\n",
              "\n",
              "    .dataframe tbody tr th {\n",
              "        vertical-align: top;\n",
              "    }\n",
              "\n",
              "    .dataframe thead th {\n",
              "        text-align: right;\n",
              "    }\n",
              "</style>\n",
              "<table border=\"1\" class=\"dataframe\">\n",
              "  <thead>\n",
              "    <tr style=\"text-align: right;\">\n",
              "      <th></th>\n",
              "      <th>source_reference</th>\n",
              "      <th>suspicious_document</th>\n",
              "    </tr>\n",
              "  </thead>\n",
              "  <tbody>\n",
              "    <tr>\n",
              "      <th>71</th>\n",
              "      <td>source-document08605.txt</td>\n",
              "      <td>suspicious-document00032.txt</td>\n",
              "    </tr>\n",
              "    <tr>\n",
              "      <th>72</th>\n",
              "      <td>source-document07215.txt</td>\n",
              "      <td>suspicious-document00032.txt</td>\n",
              "    </tr>\n",
              "    <tr>\n",
              "      <th>73</th>\n",
              "      <td>source-document09079.txt</td>\n",
              "      <td>suspicious-document00032.txt</td>\n",
              "    </tr>\n",
              "    <tr>\n",
              "      <th>74</th>\n",
              "      <td>source-document05509.txt</td>\n",
              "      <td>suspicious-document00032.txt</td>\n",
              "    </tr>\n",
              "    <tr>\n",
              "      <th>75</th>\n",
              "      <td>source-document05098.txt</td>\n",
              "      <td>suspicious-document00032.txt</td>\n",
              "    </tr>\n",
              "    <tr>\n",
              "      <th>...</th>\n",
              "      <td>...</td>\n",
              "      <td>...</td>\n",
              "    </tr>\n",
              "    <tr>\n",
              "      <th>19766</th>\n",
              "      <td>source-document05891.txt</td>\n",
              "      <td>suspicious-document09141.txt</td>\n",
              "    </tr>\n",
              "    <tr>\n",
              "      <th>19767</th>\n",
              "      <td>source-document05176.txt</td>\n",
              "      <td>suspicious-document09141.txt</td>\n",
              "    </tr>\n",
              "    <tr>\n",
              "      <th>19768</th>\n",
              "      <td>source-document02072.txt</td>\n",
              "      <td>suspicious-document09141.txt</td>\n",
              "    </tr>\n",
              "    <tr>\n",
              "      <th>19769</th>\n",
              "      <td>source-document08747.txt</td>\n",
              "      <td>suspicious-document09141.txt</td>\n",
              "    </tr>\n",
              "    <tr>\n",
              "      <th>20174</th>\n",
              "      <td>source-document02484.txt</td>\n",
              "      <td>suspicious-document09252.txt</td>\n",
              "    </tr>\n",
              "  </tbody>\n",
              "</table>\n",
              "<p>1500 rows × 2 columns</p>\n",
              "</div>"
            ],
            "text/plain": [
              "               source_reference           suspicious_document\n",
              "71     source-document08605.txt  suspicious-document00032.txt\n",
              "72     source-document07215.txt  suspicious-document00032.txt\n",
              "73     source-document09079.txt  suspicious-document00032.txt\n",
              "74     source-document05509.txt  suspicious-document00032.txt\n",
              "75     source-document05098.txt  suspicious-document00032.txt\n",
              "...                         ...                           ...\n",
              "19766  source-document05891.txt  suspicious-document09141.txt\n",
              "19767  source-document05176.txt  suspicious-document09141.txt\n",
              "19768  source-document02072.txt  suspicious-document09141.txt\n",
              "19769  source-document08747.txt  suspicious-document09141.txt\n",
              "20174  source-document02484.txt  suspicious-document09252.txt\n",
              "\n",
              "[1500 rows x 2 columns]"
            ]
          },
          "metadata": {
            "tags": []
          },
          "execution_count": 33
        }
      ]
    },
    {
      "cell_type": "code",
      "metadata": {
        "colab": {
          "base_uri": "https://localhost:8080/"
        },
        "id": "ll2o1Gx8QhyJ",
        "outputId": "571026a1-052b-4d2d-c29a-4e62cdf83c32"
      },
      "source": [
        "final_set = set(frame['source_reference'])\n",
        "final_set.update(set(frame['suspicious_document']))\n",
        "len(final_set)"
      ],
      "execution_count": 34,
      "outputs": [
        {
          "output_type": "execute_result",
          "data": {
            "text/plain": [
              "952"
            ]
          },
          "metadata": {
            "tags": []
          },
          "execution_count": 34
        }
      ]
    },
    {
      "cell_type": "code",
      "metadata": {
        "id": "tfI6H1ryQ_cd"
      },
      "source": [
        "# !cp \"/content/drive/MyDrive/Total_data.zip\" \"/content/corpus.zip\"\n",
        "!unzip '/content/corpus.zip'"
      ],
      "execution_count": null,
      "outputs": []
    },
    {
      "cell_type": "code",
      "metadata": {
        "id": "_3aV_GD-Rgmw"
      },
      "source": [
        "import shutil\n",
        "import os"
      ],
      "execution_count": 45,
      "outputs": []
    },
    {
      "cell_type": "code",
      "metadata": {
        "id": "QfptZOwRSeyb"
      },
      "source": [
        "dest = '/content/simulated/'\n",
        "src = '/content/Total_data/'\n",
        "for item in final_set:\n",
        "    shutil.copy(src+item, dest+item)"
      ],
      "execution_count": 46,
      "outputs": []
    },
    {
      "cell_type": "code",
      "metadata": {
        "id": "krafbQHZTDa3"
      },
      "source": [
        "!zip -r 'simulated.zip' '/content/simulated'"
      ],
      "execution_count": null,
      "outputs": []
    },
    {
      "cell_type": "code",
      "metadata": {
        "id": "wBQYEyFWTYE-"
      },
      "source": [
        "!cp \"/content/simulated.zip\" \"/content/drive/MyDrive/simulated.zip\" "
      ],
      "execution_count": 48,
      "outputs": []
    },
    {
      "cell_type": "code",
      "metadata": {
        "id": "AoJHzwbYTw_b"
      },
      "source": [
        ""
      ],
      "execution_count": null,
      "outputs": []
    }
  ]
}